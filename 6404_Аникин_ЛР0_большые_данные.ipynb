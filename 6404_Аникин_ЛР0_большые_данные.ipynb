{
  "nbformat": 4,
  "nbformat_minor": 0,
  "metadata": {
    "colab": {
      "provenance": []
    },
    "kernelspec": {
      "name": "python3",
      "display_name": "Python 3"
    }
  },
  "cells": [
    {
      "cell_type": "markdown",
      "metadata": {
        "id": "82OvPKEiEqjc"
      },
      "source": [
        "# Введение в MapReduce модель на Python\n"
      ]
    },
    {
      "cell_type": "code",
      "metadata": {
        "id": "JQ2cvXLjICmI"
      },
      "source": [
        "from typing import NamedTuple # requires python 3.6+\n",
        "from typing import Iterator"
      ],
      "execution_count": 1,
      "outputs": []
    },
    {
      "cell_type": "code",
      "metadata": {
        "id": "yjPHumVwEyEg"
      },
      "source": [
        "def MAP(_, row:NamedTuple):\n",
        "  if (row.gender == 'female'):\n",
        "    yield (row.age, row)\n",
        "\n",
        "def REDUCE(age:str, rows:Iterator[NamedTuple]):\n",
        "  sum = 0\n",
        "  count = 0\n",
        "  for row in rows:\n",
        "    sum += row.social_contacts\n",
        "    count += 1\n",
        "  if (count > 0):\n",
        "    yield (age, sum/count)\n",
        "  else:\n",
        "    yield (age, 0)"
      ],
      "execution_count": 2,
      "outputs": []
    },
    {
      "cell_type": "markdown",
      "metadata": {
        "id": "vBKMgpG_ilaZ"
      },
      "source": [
        "Модель элемента данных"
      ]
    },
    {
      "cell_type": "code",
      "metadata": {
        "id": "Rv-XIjhTJPx3"
      },
      "source": [
        "class User(NamedTuple):\n",
        "  id: int\n",
        "  age: str\n",
        "  social_contacts: int\n",
        "  gender: str"
      ],
      "execution_count": 3,
      "outputs": []
    },
    {
      "cell_type": "code",
      "metadata": {
        "id": "5KV0Ze2vQgu5"
      },
      "source": [
        "input_collection = [\n",
        "    User(id=0, age=55, gender='male', social_contacts=20),\n",
        "    User(id=1, age=25, gender='female', social_contacts=240),\n",
        "    User(id=2, age=25, gender='female', social_contacts=500),\n",
        "    User(id=3, age=33, gender='female', social_contacts=800)\n",
        "]"
      ],
      "execution_count": 4,
      "outputs": []
    },
    {
      "cell_type": "markdown",
      "metadata": {
        "id": "YFeqzyZxZIFZ"
      },
      "source": [
        "Функция RECORDREADER моделирует чтение элементов с диска или по сети."
      ]
    },
    {
      "cell_type": "code",
      "metadata": {
        "id": "S5HR4E_GQoMJ"
      },
      "source": [
        "def RECORDREADER():\n",
        "  return [(u.id, u) for u in input_collection]"
      ],
      "execution_count": 5,
      "outputs": []
    },
    {
      "cell_type": "code",
      "metadata": {
        "id": "NeEoWla-ROUy",
        "colab": {
          "base_uri": "https://localhost:8080/"
        },
        "outputId": "cf3324a9-ed2e-4502-adff-1926aeaea153"
      },
      "source": [
        "list(RECORDREADER())"
      ],
      "execution_count": 6,
      "outputs": [
        {
          "output_type": "execute_result",
          "data": {
            "text/plain": [
              "[(0, User(id=0, age=55, social_contacts=20, gender='male')),\n",
              " (1, User(id=1, age=25, social_contacts=240, gender='female')),\n",
              " (2, User(id=2, age=25, social_contacts=500, gender='female')),\n",
              " (3, User(id=3, age=33, social_contacts=800, gender='female'))]"
            ]
          },
          "metadata": {},
          "execution_count": 6
        }
      ]
    },
    {
      "cell_type": "code",
      "metadata": {
        "id": "YB8orgPSZs8M"
      },
      "source": [
        "def flatten(nested_iterable):\n",
        "  for iterable in nested_iterable:\n",
        "    for element in iterable:\n",
        "      yield element"
      ],
      "execution_count": 7,
      "outputs": []
    },
    {
      "cell_type": "code",
      "metadata": {
        "id": "74oyvDLaRmd5",
        "colab": {
          "base_uri": "https://localhost:8080/"
        },
        "outputId": "6217930d-fd4c-4b8a-a831-4428ab0c0ca5"
      },
      "source": [
        "map_output = flatten(map(lambda x: MAP(*x), RECORDREADER()))\n",
        "map_output = list(map_output) # materialize\n",
        "map_output"
      ],
      "execution_count": 8,
      "outputs": [
        {
          "output_type": "execute_result",
          "data": {
            "text/plain": [
              "[(25, User(id=1, age=25, social_contacts=240, gender='female')),\n",
              " (25, User(id=2, age=25, social_contacts=500, gender='female')),\n",
              " (33, User(id=3, age=33, social_contacts=800, gender='female'))]"
            ]
          },
          "metadata": {},
          "execution_count": 8
        }
      ]
    },
    {
      "cell_type": "code",
      "metadata": {
        "id": "8ncYDJ3-VzDn"
      },
      "source": [
        "def groupbykey(iterable):\n",
        "  t = {}\n",
        "  for (k2, v2) in iterable:\n",
        "    t[k2] = t.get(k2, []) + [v2]\n",
        "  return t.items()"
      ],
      "execution_count": 9,
      "outputs": []
    },
    {
      "cell_type": "code",
      "metadata": {
        "id": "cKzY_6COWOA2",
        "colab": {
          "base_uri": "https://localhost:8080/"
        },
        "outputId": "5342178f-c66e-4618-ce99-291f16d5601b"
      },
      "source": [
        "shuffle_output = groupbykey(map_output)\n",
        "shuffle_output = list(shuffle_output)\n",
        "shuffle_output"
      ],
      "execution_count": 10,
      "outputs": [
        {
          "output_type": "execute_result",
          "data": {
            "text/plain": [
              "[(25,\n",
              "  [User(id=1, age=25, social_contacts=240, gender='female'),\n",
              "   User(id=2, age=25, social_contacts=500, gender='female')]),\n",
              " (33, [User(id=3, age=33, social_contacts=800, gender='female')])]"
            ]
          },
          "metadata": {},
          "execution_count": 10
        }
      ]
    },
    {
      "cell_type": "code",
      "metadata": {
        "id": "NlA7lkDDYL0t",
        "colab": {
          "base_uri": "https://localhost:8080/"
        },
        "outputId": "02a61191-e061-4a6b-d2ad-4444e23bcdce"
      },
      "source": [
        "reduce_output = flatten(map(lambda x: REDUCE(*x), shuffle_output))\n",
        "reduce_output = list(reduce_output)\n",
        "reduce_output"
      ],
      "execution_count": 11,
      "outputs": [
        {
          "output_type": "execute_result",
          "data": {
            "text/plain": [
              "[(25, 370.0), (33, 800.0)]"
            ]
          },
          "metadata": {},
          "execution_count": 11
        }
      ]
    },
    {
      "cell_type": "markdown",
      "metadata": {
        "id": "xf6qhHEtd6bI"
      },
      "source": [
        "Все действия одним конвейером!"
      ]
    },
    {
      "cell_type": "code",
      "metadata": {
        "id": "dZaQGYxCdpw5",
        "colab": {
          "base_uri": "https://localhost:8080/"
        },
        "outputId": "8b66ad26-a757-4df7-f245-bdc5e9758275"
      },
      "source": [
        "list(flatten(map(lambda x: REDUCE(*x), groupbykey(flatten(map(lambda x: MAP(*x), RECORDREADER()))))))"
      ],
      "execution_count": 12,
      "outputs": [
        {
          "output_type": "execute_result",
          "data": {
            "text/plain": [
              "[(25, 370.0), (33, 800.0)]"
            ]
          },
          "metadata": {},
          "execution_count": 12
        }
      ]
    },
    {
      "cell_type": "markdown",
      "metadata": {
        "id": "Vq3EWRIpwSiJ"
      },
      "source": [
        "# **MapReduce**\n",
        "Выделим общую для всех пользователей часть системы в отдельную функцию высшего порядка. Это наиболее простая модель MapReduce, без учёта распределённого хранения данных.\n",
        "\n",
        "Пользователь для решения своей задачи реализует RECORDREADER, MAP, REDUCE."
      ]
    },
    {
      "cell_type": "code",
      "metadata": {
        "id": "V1PZeQMwwVjc"
      },
      "source": [
        "def flatten(nested_iterable):\n",
        "  for iterable in nested_iterable:\n",
        "    for element in iterable:\n",
        "      yield element\n",
        "\n",
        "def groupbykey(iterable):\n",
        "  t = {}\n",
        "  for (k2, v2) in iterable:\n",
        "    t[k2] = t.get(k2, []) + [v2]\n",
        "  return t.items()\n",
        "\n",
        "def MapReduce(RECORDREADER, MAP, REDUCE):\n",
        "  return flatten(map(lambda x: REDUCE(*x), groupbykey(flatten(map(lambda x: MAP(*x), RECORDREADER())))))"
      ],
      "execution_count": 13,
      "outputs": []
    },
    {
      "cell_type": "markdown",
      "metadata": {
        "id": "iFIVrimep678"
      },
      "source": [
        "## Спецификация MapReduce\n",
        "\n",
        "\n",
        "\n",
        "```\n",
        "f (k1, v1) -> (k2,v2)*\n",
        "g (k2, v2*) -> (k3,v3)*\n",
        "\n",
        "mapreduce ((k1,v1)*) -> (k3,v3)*\n",
        "groupby ((k2,v2)*) -> (k2,v2*)*\n",
        "flatten (e2**) -> e2*\n",
        "\n",
        "mapreduce .map(f).flatten.groupby(k2).map(g).flatten\n",
        "```\n",
        "\n",
        "\n"
      ]
    },
    {
      "cell_type": "markdown",
      "metadata": {
        "id": "QtTFyqke3KGe"
      },
      "source": [
        "# Примеры"
      ]
    },
    {
      "cell_type": "markdown",
      "metadata": {
        "id": "BNhh5763w5Vn"
      },
      "source": [
        "## SQL"
      ]
    },
    {
      "cell_type": "code",
      "metadata": {
        "id": "QkyurnvGxBGk",
        "colab": {
          "base_uri": "https://localhost:8080/"
        },
        "outputId": "b9e6b4fa-9589-45ba-8604-338d11bd361a"
      },
      "source": [
        "from typing import NamedTuple # requires python 3.6+\n",
        "from typing import Iterator\n",
        "\n",
        "class User(NamedTuple):\n",
        "  id: int\n",
        "  age: str\n",
        "  social_contacts: int\n",
        "  gender: str\n",
        "\n",
        "input_collection = [\n",
        "    User(id=0, age=55, gender='male', social_contacts=20),\n",
        "    User(id=1, age=25, gender='female', social_contacts=240),\n",
        "    User(id=2, age=25, gender='female', social_contacts=500),\n",
        "    User(id=3, age=33, gender='female', social_contacts=800)\n",
        "]\n",
        "\n",
        "def MAP(_, row:NamedTuple):\n",
        "  if (row.gender == 'female'):\n",
        "    yield (row.age, row)\n",
        "\n",
        "def REDUCE(age:str, rows:Iterator[NamedTuple]):\n",
        "  sum = 0\n",
        "  count = 0\n",
        "  for row in rows:\n",
        "    sum += row.social_contacts\n",
        "    count += 1\n",
        "  if (count > 0):\n",
        "    yield (age, sum/count)\n",
        "  else:\n",
        "    yield (age, 0)\n",
        "\n",
        "def RECORDREADER():\n",
        "  return [(u.id, u) for u in input_collection]\n",
        "\n",
        "output = MapReduce(RECORDREADER, MAP, REDUCE)\n",
        "output = list(output)\n",
        "output"
      ],
      "execution_count": 14,
      "outputs": [
        {
          "output_type": "execute_result",
          "data": {
            "text/plain": [
              "[(25, 370.0), (33, 800.0)]"
            ]
          },
          "metadata": {},
          "execution_count": 14
        }
      ]
    },
    {
      "cell_type": "markdown",
      "metadata": {
        "id": "kNKYIeerx0nY"
      },
      "source": [
        "## Matrix-Vector multiplication"
      ]
    },
    {
      "cell_type": "code",
      "metadata": {
        "id": "rwcntRcCyi1V",
        "colab": {
          "base_uri": "https://localhost:8080/"
        },
        "outputId": "44021ded-deb6-4090-efc9-1d16f3c62ac5"
      },
      "source": [
        "from typing import Iterator\n",
        "import numpy as np\n",
        "\n",
        "mat = np.ones((5,4))\n",
        "vec = np.random.rand(4) # in-memory vector in all map tasks\n",
        "\n",
        "def MAP(coordinates:(int, int), value:int):\n",
        "  i, j = coordinates\n",
        "  yield (i, value*vec[j])\n",
        "\n",
        "def REDUCE(i:int, products:Iterator[NamedTuple]):\n",
        "  sum = 0\n",
        "  for p in products:\n",
        "    sum += p\n",
        "  yield (i, sum)\n",
        "\n",
        "def RECORDREADER():\n",
        "  for i in range(mat.shape[0]):\n",
        "    for j in range(mat.shape[1]):\n",
        "      yield ((i, j), mat[i,j])\n",
        "\n",
        "output = MapReduce(RECORDREADER, MAP, REDUCE)\n",
        "output = list(output)\n",
        "output"
      ],
      "execution_count": 15,
      "outputs": [
        {
          "output_type": "execute_result",
          "data": {
            "text/plain": [
              "[(0, 0.9121232585461544),\n",
              " (1, 0.9121232585461544),\n",
              " (2, 0.9121232585461544),\n",
              " (3, 0.9121232585461544),\n",
              " (4, 0.9121232585461544)]"
            ]
          },
          "metadata": {},
          "execution_count": 15
        }
      ]
    },
    {
      "cell_type": "markdown",
      "metadata": {
        "id": "ruZREYdi2o4O"
      },
      "source": [
        "## Inverted index"
      ]
    },
    {
      "cell_type": "code",
      "metadata": {
        "id": "vt9H9Alf3TYv",
        "colab": {
          "base_uri": "https://localhost:8080/"
        },
        "outputId": "4b330105-94e3-4b1b-bf55-e1ec4ca532b4"
      },
      "source": [
        "from typing import Iterator\n",
        "\n",
        "d1 = \"it is what it is\"\n",
        "d2 = \"what is it\"\n",
        "d3 = \"it is a banana\"\n",
        "documents = [d1, d2, d3]\n",
        "\n",
        "def RECORDREADER():\n",
        "  for (docid, document) in enumerate(documents):\n",
        "    yield (\"{}\".format(docid), document)\n",
        "\n",
        "def MAP(docId:str, body:str):\n",
        "  for word in set(body.split(' ')):\n",
        "    yield (word, docId)\n",
        "\n",
        "def REDUCE(word:str, docIds:Iterator[str]):\n",
        "  yield (word, sorted(docIds))\n",
        "\n",
        "output = MapReduce(RECORDREADER, MAP, REDUCE)\n",
        "output = list(output)\n",
        "output"
      ],
      "execution_count": 16,
      "outputs": [
        {
          "output_type": "execute_result",
          "data": {
            "text/plain": [
              "[('is', ['0', '1', '2']),\n",
              " ('it', ['0', '1', '2']),\n",
              " ('what', ['0', '1']),\n",
              " ('banana', ['2']),\n",
              " ('a', ['2'])]"
            ]
          },
          "metadata": {},
          "execution_count": 16
        }
      ]
    },
    {
      "cell_type": "markdown",
      "metadata": {
        "id": "R7az-6DA6qr2"
      },
      "source": [
        "## WordCount"
      ]
    },
    {
      "cell_type": "code",
      "metadata": {
        "id": "dN-nbtgG6uYG",
        "colab": {
          "base_uri": "https://localhost:8080/"
        },
        "outputId": "cb8d8585-b26a-44cf-cec8-2f7946fa8fb8"
      },
      "source": [
        "from typing import Iterator\n",
        "\n",
        "d1 = \"\"\"\n",
        "it is what it is\n",
        "it is what it is\n",
        "it is what it is\"\"\"\n",
        "d2 = \"\"\"\n",
        "what is it\n",
        "what is it\"\"\"\n",
        "d3 = \"\"\"\n",
        "it is a banana\"\"\"\n",
        "documents = [d1, d2, d3]\n",
        "\n",
        "def RECORDREADER():\n",
        "  for (docid, document) in enumerate(documents):\n",
        "    for (lineid, line) in enumerate(document.split('\\n')):\n",
        "      yield (\"{}:{}\".format(docid,lineid), line)\n",
        "\n",
        "def MAP(docId:str, line:str):\n",
        "  for word in line.split(\" \"):\n",
        "    yield (word, 1)\n",
        "\n",
        "def REDUCE(word:str, counts:Iterator[int]):\n",
        "  sum = 0\n",
        "  for c in counts:\n",
        "    sum += c\n",
        "  yield (word, sum)\n",
        "\n",
        "output = MapReduce(RECORDREADER, MAP, REDUCE)\n",
        "output = list(output)\n",
        "output"
      ],
      "execution_count": 17,
      "outputs": [
        {
          "output_type": "execute_result",
          "data": {
            "text/plain": [
              "[('', 3), ('it', 9), ('is', 9), ('what', 5), ('a', 1), ('banana', 1)]"
            ]
          },
          "metadata": {},
          "execution_count": 17
        }
      ]
    },
    {
      "cell_type": "markdown",
      "metadata": {
        "id": "h-jRAcYCAkkk"
      },
      "source": [
        "# MapReduce Distributed\n",
        "\n",
        "Добавляется в модель фабрика RECORDREARER-ов --- INPUTFORMAT, функция распределения промежуточных результатов по партициям PARTITIONER, и функция COMBINER для частичной аггрегации промежуточных результатов до распределения по новым партициям."
      ]
    },
    {
      "cell_type": "code",
      "metadata": {
        "id": "nw-b-xJsApgW"
      },
      "source": [
        "def flatten(nested_iterable):\n",
        "  for iterable in nested_iterable:\n",
        "    for element in iterable:\n",
        "      yield element\n",
        "\n",
        "def groupbykey(iterable):\n",
        "  t = {}\n",
        "  for (k2, v2) in iterable:\n",
        "    t[k2] = t.get(k2, []) + [v2]\n",
        "  return t.items()\n",
        "\n",
        "def groupbykey_distributed(map_partitions, PARTITIONER):\n",
        "  global reducers\n",
        "  partitions = [dict() for _ in range(reducers)]\n",
        "  for map_partition in map_partitions:\n",
        "    for (k2, v2) in map_partition:\n",
        "      p = partitions[PARTITIONER(k2)]\n",
        "      p[k2] = p.get(k2, []) + [v2]\n",
        "  return [(partition_id, sorted(partition.items(), key=lambda x: x[0])) for (partition_id, partition) in enumerate(partitions)]\n",
        "\n",
        "def PARTITIONER(obj):\n",
        "  global reducers\n",
        "  return hash(obj) % reducers\n",
        "\n",
        "def MapReduceDistributed(INPUTFORMAT, MAP, REDUCE, PARTITIONER=PARTITIONER, COMBINER=None):\n",
        "  map_partitions = map(lambda record_reader: flatten(map(lambda k1v1: MAP(*k1v1), record_reader)), INPUTFORMAT())\n",
        "  if COMBINER != None:\n",
        "    map_partitions = map(lambda map_partition: flatten(map(lambda k2v2: COMBINER(*k2v2), groupbykey(map_partition))), map_partitions)\n",
        "  reduce_partitions = groupbykey_distributed(map_partitions, PARTITIONER) # shuffle\n",
        "  reduce_outputs = map(lambda reduce_partition: (reduce_partition[0], flatten(map(lambda reduce_input_group: REDUCE(*reduce_input_group), reduce_partition[1]))), reduce_partitions)\n",
        "\n",
        "  print(\"{} key-value pairs were sent over a network.\".format(sum([len(vs) for (k,vs) in flatten([partition for (partition_id, partition) in reduce_partitions])])))\n",
        "  return reduce_outputs"
      ],
      "execution_count": 18,
      "outputs": []
    },
    {
      "cell_type": "markdown",
      "metadata": {
        "id": "kxirlf3XqZxY"
      },
      "source": [
        "## Спецификация MapReduce Distributed\n",
        "\n",
        "\n",
        "```\n",
        "f (k1, v1) -> (k2,v2)*\n",
        "g (k2, v2*) -> (k3,v3)*\n",
        "\n",
        "e1 (k1, v1)\n",
        "e2 (k2, v2)\n",
        "partition1 (k2, v2)*\n",
        "partition2 (k2, v2*)*\n",
        "\n",
        "flatmap (e1->e2*, e1*) -> partition1*\n",
        "groupby (partition1*) -> partition2*\n",
        "\n",
        "mapreduce ((k1,v1)*) -> (k3,v3)*\n",
        "mapreduce .flatmap(f).groupby(k2).flatmap(g)\n",
        "```\n",
        "\n"
      ]
    },
    {
      "cell_type": "markdown",
      "metadata": {
        "id": "CWYw_CpbbY3C"
      },
      "source": [
        "## WordCount"
      ]
    },
    {
      "cell_type": "code",
      "metadata": {
        "id": "uR_zfGFkMZlp",
        "colab": {
          "base_uri": "https://localhost:8080/"
        },
        "outputId": "b9723dd7-781d-42a0-9bfc-c911cab619d0"
      },
      "source": [
        "from typing import Iterator\n",
        "import numpy as np\n",
        "\n",
        "d1 = \"\"\"\n",
        "it is what it is\n",
        "it is what it is\n",
        "it is what it is\"\"\"\n",
        "d2 = \"\"\"\n",
        "what is it\n",
        "what is it\"\"\"\n",
        "d3 = \"\"\"\n",
        "it is a banana\"\"\"\n",
        "documents = [d1, d2, d3, d1, d2, d3]\n",
        "\n",
        "maps = 3\n",
        "reducers = 2\n",
        "\n",
        "def INPUTFORMAT():\n",
        "  global maps\n",
        "\n",
        "  def RECORDREADER(split):\n",
        "    for (docid, document) in enumerate(split):\n",
        "      for (lineid, line) in enumerate(document.split('\\n')):\n",
        "        yield (\"{}:{}\".format(docid,lineid), line)\n",
        "\n",
        "  split_size =  int(np.ceil(len(documents)/maps))\n",
        "  for i in range(0, len(documents), split_size):\n",
        "    yield RECORDREADER(documents[i:i+split_size])\n",
        "\n",
        "def MAP(docId:str, line:str):\n",
        "  for word in line.split(\" \"):\n",
        "    yield (word, 1)\n",
        "\n",
        "def REDUCE(word:str, counts:Iterator[int]):\n",
        "  sum = 0\n",
        "  for c in counts:\n",
        "    sum += c\n",
        "  yield (word, sum)\n",
        "\n",
        "# try to set COMBINER=REDUCER and look at the number of values sent over the network\n",
        "partitioned_output = MapReduceDistributed(INPUTFORMAT, MAP, REDUCE, COMBINER=None)\n",
        "partitioned_output = [(partition_id, list(partition)) for (partition_id, partition) in partitioned_output]\n",
        "partitioned_output"
      ],
      "execution_count": 19,
      "outputs": [
        {
          "output_type": "stream",
          "name": "stdout",
          "text": [
            "56 key-value pairs were sent over a network.\n"
          ]
        },
        {
          "output_type": "execute_result",
          "data": {
            "text/plain": [
              "[(0, [('', 6), ('banana', 2)]),\n",
              " (1, [('a', 2), ('is', 18), ('it', 18), ('what', 10)])]"
            ]
          },
          "metadata": {},
          "execution_count": 19
        }
      ]
    },
    {
      "cell_type": "markdown",
      "metadata": {
        "id": "gCJGx8IQ87xS"
      },
      "source": [
        "## TeraSort"
      ]
    },
    {
      "cell_type": "code",
      "metadata": {
        "id": "P2v8v1v_8_YR",
        "colab": {
          "base_uri": "https://localhost:8080/"
        },
        "outputId": "90b2f072-d52d-40da-ec7d-41c098d807df"
      },
      "source": [
        "import numpy as np\n",
        "\n",
        "input_values = np.random.rand(30)\n",
        "maps = 3\n",
        "reducers = 2\n",
        "min_value = 0.0\n",
        "max_value = 1.0\n",
        "\n",
        "def INPUTFORMAT():\n",
        "  global maps\n",
        "\n",
        "  def RECORDREADER(split):\n",
        "    for value in split:\n",
        "        yield (value, None)\n",
        "\n",
        "  split_size =  int(np.ceil(len(input_values)/maps))\n",
        "  for i in range(0, len(input_values), split_size):\n",
        "    yield RECORDREADER(input_values[i:i+split_size])\n",
        "\n",
        "def MAP(value:int, _):\n",
        "  yield (value, None)\n",
        "\n",
        "def PARTITIONER(key):\n",
        "  global reducers\n",
        "  global max_value\n",
        "  global min_value\n",
        "  bucket_size = (max_value-min_value)/reducers\n",
        "  bucket_id = 0\n",
        "  while((key>(bucket_id+1)*bucket_size) and ((bucket_id+1)*bucket_size<max_value)):\n",
        "    bucket_id += 1\n",
        "  return bucket_id\n",
        "\n",
        "def REDUCE(value:int, _):\n",
        "  yield (None,value)\n",
        "\n",
        "partitioned_output = MapReduceDistributed(INPUTFORMAT, MAP, REDUCE, COMBINER=None, PARTITIONER=PARTITIONER)\n",
        "partitioned_output = [(partition_id, list(partition)) for (partition_id, partition) in partitioned_output]\n",
        "partitioned_output"
      ],
      "execution_count": 20,
      "outputs": [
        {
          "output_type": "stream",
          "name": "stdout",
          "text": [
            "30 key-value pairs were sent over a network.\n"
          ]
        },
        {
          "output_type": "execute_result",
          "data": {
            "text/plain": [
              "[(0,\n",
              "  [(None, 0.002443364077132637),\n",
              "   (None, 0.02286481564053089),\n",
              "   (None, 0.04105261629197765),\n",
              "   (None, 0.05928769663753364),\n",
              "   (None, 0.0669979938812334),\n",
              "   (None, 0.07806151703058428),\n",
              "   (None, 0.137021086943383),\n",
              "   (None, 0.13754484522034094),\n",
              "   (None, 0.2193752216769136),\n",
              "   (None, 0.31021373046467526),\n",
              "   (None, 0.35326770916740624),\n",
              "   (None, 0.3825256180133989),\n",
              "   (None, 0.38917568616530496),\n",
              "   (None, 0.4090424323849997)]),\n",
              " (1,\n",
              "  [(None, 0.5077648517223402),\n",
              "   (None, 0.5375114052052647),\n",
              "   (None, 0.5443796796598657),\n",
              "   (None, 0.5614722810777465),\n",
              "   (None, 0.5748039066550942),\n",
              "   (None, 0.5794753685576345),\n",
              "   (None, 0.6125317404348489),\n",
              "   (None, 0.6229956473240211),\n",
              "   (None, 0.6691955041177795),\n",
              "   (None, 0.7077406139736274),\n",
              "   (None, 0.8685205141336637),\n",
              "   (None, 0.8789897412075368),\n",
              "   (None, 0.9685645976805717),\n",
              "   (None, 0.9738367206974853),\n",
              "   (None, 0.9964761383958918),\n",
              "   (None, 0.9994908016416101)])]"
            ]
          },
          "metadata": {},
          "execution_count": 20
        }
      ]
    },
    {
      "cell_type": "markdown",
      "metadata": {
        "id": "Iy65YJTH99iT"
      },
      "source": [
        "# Упражнения\n",
        "Упражнения взяты из Rajaraman A., Ullman J. D. Mining of massive datasets. – Cambridge University Press, 2011.\n",
        "\n",
        "\n",
        "Для выполнения заданий переопределите функции RECORDREADER, MAP, REDUCE. Для модели распределённой системы может потребоваться переопределение функций PARTITION и COMBINER."
      ]
    },
    {
      "cell_type": "markdown",
      "metadata": {
        "id": "cfvAeZm3S8S8"
      },
      "source": [
        "### Максимальное значение ряда\n",
        "\n",
        "Разработайте MapReduce алгоритм, который находит максимальное число входного списка чисел."
      ]
    },
    {
      "cell_type": "code",
      "source": [
        "class Book(NamedTuple):\n",
        "  id: int\n",
        "  year: int\n",
        "  title: str\n",
        "  genre: str"
      ],
      "metadata": {
        "id": "LxwcIbsfqCwU"
      },
      "execution_count": 21,
      "outputs": []
    },
    {
      "cell_type": "code",
      "source": [
        "input_collection_praxis = [\n",
        "    Book(id=0, year=1954, title=\"The Lord of the Rings\", genre=\"fantasy\"),\n",
        "    Book(id=1, year=1813, title=\"Pride and Prejudice\", genre=\"novel\"),\n",
        "    Book(id=2, year=1995, title=\"His Dark Materials\", genre=\"fantasy\"),\n",
        "    Book(id=3, year=1979, title=\"The Hitchhiker's Guide to the Galaxy\", genre=\"comedy\")\n",
        "]"
      ],
      "metadata": {
        "id": "QSgSIUTdqEO3"
      },
      "execution_count": 22,
      "outputs": []
    },
    {
      "cell_type": "code",
      "metadata": {
        "id": "3GRA1JR-Tkbg",
        "colab": {
          "base_uri": "https://localhost:8080/"
        },
        "outputId": "26dcf048-9962-44b5-da30-ef4c8b70fc14"
      },
      "source": [
        "def MAP_FIND_MAX(_, row:NamedTuple):\n",
        "    yield (\"\", row)\n",
        "\n",
        "# поиск максимального года публикации книги (самой новой)\n",
        "def REDUCE_FIND_MAX(_, rows: Iterator[NamedTuple]):\n",
        "    max_year = 0\n",
        "    max_year_book = None\n",
        "    for row in rows:\n",
        "        if row.year > max_year:\n",
        "            max_year = row.year\n",
        "            max_year_book = row\n",
        "    yield max_year_book\n",
        "\n",
        "\n",
        "def RECORDREADER():\n",
        "    return [(b.id, b) for b in input_collection_praxis]\n",
        "\n",
        "\n",
        "output = MapReduce(RECORDREADER, MAP_FIND_MAX, REDUCE_FIND_MAX)\n",
        "output = list(output)\n",
        "output"
      ],
      "execution_count": 32,
      "outputs": [
        {
          "output_type": "execute_result",
          "data": {
            "text/plain": [
              "[Book(id=2, year=1995, title='His Dark Materials', genre='fantasy')]"
            ]
          },
          "metadata": {},
          "execution_count": 32
        }
      ]
    },
    {
      "cell_type": "markdown",
      "metadata": {
        "id": "k86bXnqZTk-U"
      },
      "source": [
        "### Арифметическое среднее\n",
        "\n",
        "Разработайте MapReduce алгоритм, который находит арифметическое среднее.\n",
        "\n",
        "$$\\overline{X} = \\frac{1}{n}\\sum_{i=0}^{n} x_i$$\n"
      ]
    },
    {
      "cell_type": "code",
      "metadata": {
        "id": "MPoY5pkfUNZf",
        "colab": {
          "base_uri": "https://localhost:8080/"
        },
        "outputId": "99a50542-0682-4f08-f433-e9291e8ba66b"
      },
      "source": [
        "def MAP_FIND_AVG(_, row:NamedTuple):\n",
        "    yield (\"\", row)\n",
        "\n",
        "# поиск среднего года публикации\n",
        "def REDUCE_FIND_AVG(_, rows: Iterator[NamedTuple]):\n",
        "    sum = 0\n",
        "    for row in rows:\n",
        "        sum += row.year\n",
        "    yield (sum / len(rows))\n",
        "\n",
        "def RECORDREADER():\n",
        "    return [(b.id, b) for b in input_collection_praxis]\n",
        "\n",
        "\n",
        "output = MapReduce(RECORDREADER, MAP_FIND_AVG, REDUCE_FIND_AVG)\n",
        "output = list(output)\n",
        "output"
      ],
      "execution_count": 33,
      "outputs": [
        {
          "output_type": "execute_result",
          "data": {
            "text/plain": [
              "[1935.25]"
            ]
          },
          "metadata": {},
          "execution_count": 33
        }
      ]
    },
    {
      "cell_type": "markdown",
      "metadata": {
        "id": "xanzszhsIlLe"
      },
      "source": [
        "### GroupByKey на основе сортировки\n",
        "\n",
        "Реализуйте groupByKey на основе сортировки, проверьте его работу на примерах"
      ]
    },
    {
      "cell_type": "code",
      "source": [
        "def groupbykey_sorted(iterable):\n",
        "  # Сортируем элементы по ключу\n",
        "    iterable = sorted(iterable, key=lambda elem: elem[0])\n",
        "    t = {}\n",
        "    for k2, v2 in iterable:\n",
        "        t[k2] = t.get(k2, []) + [v2]\n",
        "    return t.items()\n",
        "\n",
        "def MapReduce_with_sorted(RECORDREADER, MAP, REDUCE):\n",
        "  return flatten(map(lambda x: REDUCE(*x), groupbykey_sorted(flatten(map(lambda x: MAP(*x), RECORDREADER())))))"
      ],
      "metadata": {
        "id": "IVDzaZMz4Hq5"
      },
      "execution_count": 34,
      "outputs": []
    },
    {
      "cell_type": "code",
      "metadata": {
        "id": "hQPn3USsIkEC",
        "colab": {
          "base_uri": "https://localhost:8080/"
        },
        "outputId": "70657cbc-de8b-428f-bf6c-6299c8adbba5"
      },
      "source": [
        "output = MapReduce_with_sorted(RECORDREADER, MAP_FIND_MAX, REDUCE_FIND_MAX)\n",
        "output = list(output)\n",
        "print(\"Максимальное значение ряда: \" + str(output))\n",
        "\n",
        "output = MapReduce_with_sorted(RECORDREADER, MAP_FIND_AVG, REDUCE_FIND_AVG)\n",
        "output = list(output)\n",
        "print(\"Арифметическое среднее:\" + str(output))"
      ],
      "execution_count": 35,
      "outputs": [
        {
          "output_type": "stream",
          "name": "stdout",
          "text": [
            "Максимальное значение ряда: [Book(id=2, year=1995, title='His Dark Materials', genre='fantasy')]\n",
            "Арифметическое среднее:[1935.25]\n"
          ]
        }
      ]
    },
    {
      "cell_type": "markdown",
      "metadata": {
        "id": "5SgEjCZyGnu6"
      },
      "source": [
        "### Drop duplicates (set construction, unique elements, distinct)\n",
        "\n",
        "Реализуйте распределённую операцию исключения дубликатов"
      ]
    },
    {
      "cell_type": "code",
      "source": [
        "input_collection_praxis_duplicates = [\n",
        "    Book(id=0, year=1954, title=\"The Lord of the Rings\", genre=\"fantasy\"),\n",
        "    Book(id=1, year=1813, title=\"Pride and Prejudice\", genre=\"novel\"),\n",
        "    Book(id=2, year=1995, title=\"His Dark Materials\", genre=\"fantasy\"),\n",
        "    Book(id=2, year=1995, title=\"His Dark Materials\", genre=\"fantasy\"),\n",
        "    Book(id=3, year=1979, title=\"The Hitchhiker's Guide to the Galaxy\", genre=\"comedy\"),\n",
        "    Book(id=0, year=1954, title=\"The Lord of the Rings\", genre=\"fantasy\"),\n",
        "    Book(id=0, year=1954, title=\"The Lord of the Rings\", genre=\"fantasy\"),\n",
        "    Book(id=3, year=1979, title=\"The Hitchhiker's Guide to the Galaxy\", genre=\"comedy\")\n",
        "]"
      ],
      "metadata": {
        "id": "qRHBWBk_3lPB"
      },
      "execution_count": 27,
      "outputs": []
    },
    {
      "cell_type": "code",
      "metadata": {
        "id": "okjbyApjGhMt",
        "colab": {
          "base_uri": "https://localhost:8080/"
        },
        "outputId": "5c102fd3-f160-42d5-e4cf-10695d075bea"
      },
      "source": [
        "maps = 3\n",
        "\n",
        "def INPUTFORMAT():\n",
        "    global maps\n",
        "\n",
        "    def RECORDREADER(split):\n",
        "        for (id, book) in enumerate(split):\n",
        "            yield (id, book)\n",
        "\n",
        "    split_size = int(np.ceil(len(input_collection_praxis_duplicates) / maps))\n",
        "    for i in range(0, len(input_collection_praxis_duplicates), split_size):\n",
        "        yield RECORDREADER(input_collection_praxis_duplicates[i : i + split_size])\n",
        "\n",
        "# Группировка по id\n",
        "def MAP_UNIQUE(_, row:NamedTuple):\n",
        "    yield (row.id, row)\n",
        "\n",
        "# Возвращение одной строки из множества с одинаковыми id\n",
        "def REDUCE_UNIQUE(id: int, rows: Iterator[NamedTuple]):\n",
        "    yield rows[0]\n",
        "\n",
        "partitioned_output = MapReduceDistributed(INPUTFORMAT, MAP_UNIQUE, REDUCE_UNIQUE)\n",
        "partitioned_output = [(partition_id, list(partition)) for (partition_id, partition) in partitioned_output]\n",
        "print(partitioned_output)"
      ],
      "execution_count": 315,
      "outputs": [
        {
          "output_type": "stream",
          "name": "stdout",
          "text": [
            "8 key-value pairs were sent over a network.\n",
            "[(0, [Book(id=0, year=1954, title='The Lord of the Rings', genre='fantasy'), Book(id=1, year=1813, title='Pride and Prejudice', genre='novel'), Book(id=2, year=1995, title='His Dark Materials', genre='fantasy'), Book(id=3, year=1979, title=\"The Hitchhiker's Guide to the Galaxy\", genre='comedy')])]\n"
          ]
        }
      ]
    },
    {
      "cell_type": "markdown",
      "metadata": {
        "id": "e7sRGoTXuJze"
      },
      "source": [
        "#Операторы реляционной алгебры\n",
        "### Selection (Выборка)\n",
        "\n",
        "**The Map Function**: Для  каждого кортежа $t \\in R$ вычисляется истинность предиката $C$. В случае истины создаётся пара ключ-значение $(t, t)$. В паре ключ и значение одинаковы, равны $t$.\n",
        "\n",
        "**The Reduce Function:** Роль функции Reduce выполняет функция идентичности, которая возвращает то же значение, что получила на вход.\n",
        "\n"
      ]
    },
    {
      "cell_type": "code",
      "source": [
        "input_collection_praxis = [\n",
        "    Book(id=0, year=1954, title=\"The Lord of the Rings\", genre=\"fantasy\"),\n",
        "    Book(id=1, year=1813, title=\"Pride and Prejudice\", genre=\"novel\"),\n",
        "    Book(id=2, year=1995, title=\"His Dark Materials\", genre=\"fantasy\"),\n",
        "    Book(id=3, year=1979, title=\"The Hitchhiker's Guide to the Galaxy\", genre=\"comedy\")\n",
        "]"
      ],
      "metadata": {
        "id": "TOV_pPOAK6fB"
      },
      "execution_count": 45,
      "outputs": []
    },
    {
      "cell_type": "code",
      "metadata": {
        "id": "4nKIKe59uIfc",
        "colab": {
          "base_uri": "https://localhost:8080/"
        },
        "outputId": "6081bf8c-a461-4c64-8224-878975d7b9a1"
      },
      "source": [
        "def MAP_SELECTION(_, row:NamedTuple):\n",
        "  if row.genre == \"fantasy\":\n",
        "      yield (row, row)\n",
        "\n",
        "def REDUCE_SELECTION(row:str, rows:Iterator[NamedTuple]):\n",
        "    yield row\n",
        "\n",
        "def RECORDREADER():\n",
        "    return [(b.id, b) for b in input_collection_praxis]\n",
        "\n",
        "output = MapReduce(RECORDREADER, MAP_SELECTION, REDUCE_SELECTION)\n",
        "output = list(output)\n",
        "output"
      ],
      "execution_count": 55,
      "outputs": [
        {
          "output_type": "execute_result",
          "data": {
            "text/plain": [
              "[Book(id=0, year=1954, title='The Lord of the Rings', genre='fantasy'),\n",
              " Book(id=2, year=1995, title='His Dark Materials', genre='fantasy')]"
            ]
          },
          "metadata": {},
          "execution_count": 55
        }
      ]
    },
    {
      "cell_type": "markdown",
      "metadata": {
        "id": "w27Ca-_Ku85V"
      },
      "source": [
        "### Projection (Проекция)\n",
        "\n",
        "Проекция на множество атрибутов $S$.\n",
        "\n",
        "**The Map Function:** Для каждого кортежа $t \\in R$ создайте кортеж $t′$, исключая  из $t$ те значения, атрибуты которых не принадлежат  $S$. Верните пару $(t′, t′)$.\n",
        "\n",
        "**The Reduce Function:** Для каждого ключа $t′$, созданного любой Map задачей, вы получаете одну или несколько пар $(t′, t′)$. Reduce функция преобразует $(t′, [t′, t′, . . . , t′])$ в $(t′, t′)$, так, что для ключа $t′$ возвращается одна пара  $(t′, t′)$."
      ]
    },
    {
      "cell_type": "code",
      "source": [
        "input_collection_praxis = [\n",
        "    Book(id=0, year=1954, title=\"The Lord of the Rings\", genre=\"fantasy\"),\n",
        "    Book(id=1, year=1813, title=\"Pride and Prejudice\", genre=\"novel\"),\n",
        "    Book(id=1, year=1813, title=\"Pride and Prejudice\", genre=\"novel\"),\n",
        "    Book(id=2, year=1995, title=\"His Dark Materials\", genre=\"fantasy\"),\n",
        "    Book(id=3, year=1979, title=\"The Hitchhiker's Guide to the Galaxy\", genre=\"comedy\"),\n",
        "    Book(id=3, year=1979, title=\"The Hitchhiker's Guide to the Galaxy\", genre=\"comedy\"),\n",
        "    Book(id=1, year=1813, title=\"Pride and Prejudice\", genre=\"novel\")\n",
        "]"
      ],
      "metadata": {
        "id": "sVPxwUiOM_-I"
      },
      "execution_count": 74,
      "outputs": []
    },
    {
      "cell_type": "code",
      "metadata": {
        "id": "BEvuY4GqvhS6",
        "colab": {
          "base_uri": "https://localhost:8080/"
        },
        "outputId": "0f21f4ed-11fd-477f-f01d-ce2ab5010453"
      },
      "source": [
        "S = {\"fantasy\"}\n",
        "\n",
        "def MAP_PROJECTION(_, row:NamedTuple):\n",
        "  # фильтрация на основе множества S\n",
        "    if row.genre not in S:\n",
        "        yield (row, row)\n",
        "\n",
        "def REDUCE_PROJECTION(row: str, rows: Iterator[NamedTuple]):\n",
        "  yield row\n",
        "\n",
        "def RECORDREADER():\n",
        "    return [(b.id, b) for b in input_collection_praxis]\n",
        "\n",
        "\n",
        "output = MapReduce(RECORDREADER, MAP_PROJECTION, REDUCE_PROJECTION)\n",
        "output = list(output)\n",
        "output"
      ],
      "execution_count": 75,
      "outputs": [
        {
          "output_type": "execute_result",
          "data": {
            "text/plain": [
              "[Book(id=1, year=1813, title='Pride and Prejudice', genre='novel'),\n",
              " Book(id=3, year=1979, title=\"The Hitchhiker's Guide to the Galaxy\", genre='comedy')]"
            ]
          },
          "metadata": {},
          "execution_count": 75
        }
      ]
    },
    {
      "cell_type": "markdown",
      "metadata": {
        "id": "7gau6lKXvn2R"
      },
      "source": [
        "### Union (Объединение)\n",
        "\n",
        "**The Map Function:** Превратите каждый входной кортеж $t$ в пару ключ-значение $(t, t)$.\n",
        "\n",
        "**The Reduce Function:** С каждым ключом $t$ будет ассоциировано одно или два значений. В обоих случаях создайте $(t, t)$ в качестве выходного значения."
      ]
    },
    {
      "cell_type": "code",
      "source": [
        "input_collection_praxis_1 = [\n",
        "    Book(id=0, year=1954, title=\"The Lord of the Rings\", genre=\"fantasy\"),\n",
        "    Book(id=1, year=1813, title=\"Pride and Prejudice\", genre=\"novel\")\n",
        "]"
      ],
      "metadata": {
        "id": "I6FQ7J_kSiq9"
      },
      "execution_count": 76,
      "outputs": []
    },
    {
      "cell_type": "code",
      "source": [
        "input_collection_praxis_2 = [\n",
        "    Book(id=2, year=1995, title=\"His Dark Materials\", genre=\"fantasy\"),\n",
        "    Book(id=3, year=1979, title=\"The Hitchhiker's Guide to the Galaxy\", genre=\"comedy\"),\n",
        "    Book(id=1, year=1813, title=\"Pride and Prejudice\", genre=\"novel\")\n",
        "]"
      ],
      "metadata": {
        "id": "3zejOAdxSlfw"
      },
      "execution_count": 77,
      "outputs": []
    },
    {
      "cell_type": "code",
      "metadata": {
        "id": "Sns7a5agv3nw",
        "colab": {
          "base_uri": "https://localhost:8080/"
        },
        "outputId": "0d92aea6-b118-40f3-d2c6-5234fbd29fe0"
      },
      "source": [
        "input_collection_praxis_union = input_collection_praxis_1 + input_collection_praxis_2\n",
        "\n",
        "def MAP_UNION(_, row: NamedTuple):\n",
        "    yield (row.id, row)\n",
        "\n",
        "def REDUCE_UNION(row: str, rows: Iterator[NamedTuple]):\n",
        "    yield (rows[0], rows[0])\n",
        "\n",
        "def RECORDREADER():\n",
        "    return [(b.id, b) for b in input_collection_praxis_union]\n",
        "\n",
        "\n",
        "output = MapReduce(RECORDREADER, MAP_UNION, REDUCE_UNION)\n",
        "output = list(output)\n",
        "output"
      ],
      "execution_count": 93,
      "outputs": [
        {
          "output_type": "execute_result",
          "data": {
            "text/plain": [
              "[(Book(id=0, year=1954, title='The Lord of the Rings', genre='fantasy'),\n",
              "  Book(id=0, year=1954, title='The Lord of the Rings', genre='fantasy')),\n",
              " (Book(id=1, year=1813, title='Pride and Prejudice', genre='novel'),\n",
              "  Book(id=1, year=1813, title='Pride and Prejudice', genre='novel')),\n",
              " (Book(id=2, year=1995, title='His Dark Materials', genre='fantasy'),\n",
              "  Book(id=2, year=1995, title='His Dark Materials', genre='fantasy')),\n",
              " (Book(id=3, year=1979, title=\"The Hitchhiker's Guide to the Galaxy\", genre='comedy'),\n",
              "  Book(id=3, year=1979, title=\"The Hitchhiker's Guide to the Galaxy\", genre='comedy'))]"
            ]
          },
          "metadata": {},
          "execution_count": 93
        }
      ]
    },
    {
      "cell_type": "markdown",
      "metadata": {
        "id": "dQ8TuEbjv4J8"
      },
      "source": [
        "### Intersection (Пересечение)\n",
        "\n",
        "**The Map Function:** Превратите каждый кортеж $t$ в пары ключ-значение $(t, t)$.\n",
        "\n",
        "**The Reduce Function:** Если для ключа $t$ есть список из двух элементов $[t, t]$ $-$ создайте пару $(t, t)$. Иначе, ничего не создавайте."
      ]
    },
    {
      "cell_type": "code",
      "metadata": {
        "id": "XKlBZh4IwERR",
        "colab": {
          "base_uri": "https://localhost:8080/"
        },
        "outputId": "deed2f82-6198-45c8-9df3-9916ec1bdc3e"
      },
      "source": [
        "def MAP_INTERSECTION(_, row: NamedTuple):\n",
        "    yield (row.id, row)\n",
        "\n",
        "def REDUCE_INTERSECTION(_, rows: Iterator[NamedTuple]):\n",
        "    if len(rows) == 2:\n",
        "        yield rows\n",
        "\n",
        "def RECORDREADER():\n",
        "    return [(b.id, b) for b in input_collection_praxis_union]\n",
        "\n",
        "output = MapReduce(RECORDREADER, MAP_INTERSECTION, REDUCE_INTERSECTION)\n",
        "output = list(output)\n",
        "output"
      ],
      "execution_count": 104,
      "outputs": [
        {
          "output_type": "execute_result",
          "data": {
            "text/plain": [
              "[[Book(id=1, year=1813, title='Pride and Prejudice', genre='novel'),\n",
              "  Book(id=1, year=1813, title='Pride and Prejudice', genre='novel')]]"
            ]
          },
          "metadata": {},
          "execution_count": 104
        }
      ]
    },
    {
      "cell_type": "markdown",
      "metadata": {
        "id": "AVOpqoY3wE5k"
      },
      "source": [
        "### Difference (Разница)\n",
        "\n",
        "**The Map Function:** Для кортежа $t \\in R$, создайте пару $(t, R)$, и для кортежа $t \\in S$, создайте пару $(t, S)$. Задумка заключается в том, чтобы значение пары было именем отношения $R$ or $S$, которому принадлежит кортеж (а лучше, единичный бит, по которому можно два отношения различить $R$ or $S$), а не весь набор атрибутов отношения.\n",
        "\n",
        "**The Reduce Function:** Для каждого ключа $t$, если соответствующее значение является списком $[R]$, создайте пару $(t, t)$. В иных случаях не предпринимайте действий."
      ]
    },
    {
      "cell_type": "code",
      "source": [
        "input_collection_praxis_1 = [\n",
        "    Book(id=0, year=1954, title=\"The Lord of the Rings\", genre=\"fantasy\"),\n",
        "    Book(id=1, year=1813, title=\"Pride and Prejudice\", genre=\"novel\")\n",
        "]"
      ],
      "metadata": {
        "id": "YMU4yWxOZk04"
      },
      "execution_count": 121,
      "outputs": []
    },
    {
      "cell_type": "code",
      "source": [
        "input_collection_praxis_2 = [\n",
        "    Book(id=2, year=1995, title=\"His Dark Materials\", genre=\"fantasy\"),\n",
        "    Book(id=3, year=1979, title=\"The Hitchhiker's Guide to the Galaxy\", genre=\"comedy\"),\n",
        "    Book(id=1, year=1813, title=\"Pride and Prejudice\", genre=\"novel\")\n",
        "]"
      ],
      "metadata": {
        "id": "GpTpOR4wZlLh"
      },
      "execution_count": 148,
      "outputs": []
    },
    {
      "cell_type": "code",
      "metadata": {
        "id": "QE_AC09lwZIZ",
        "colab": {
          "base_uri": "https://localhost:8080/"
        },
        "outputId": "e3571eb1-c4c3-4aee-f7be-4054dd12088b"
      },
      "source": [
        "def MAP_DIFFERENCE(relation: int, row: NamedTuple):\n",
        "    yield (row, relation)\n",
        "\n",
        "def REDUCE_DIFFERENCE(rows: Iterator[NamedTuple], relations: list[int]):\n",
        "    if relations == [0]:\n",
        "      yield (rows, rows)\n",
        "\n",
        "def RECORDREADER():\n",
        "    return [(0, a) for a in input_collection_praxis_1] + [(1, b) for b in input_collection_praxis_2]\n",
        "\n",
        "output = MapReduce(RECORDREADER, MAP_DIFFERENCE, REDUCE_DIFFERENCE)\n",
        "output = list(output)\n",
        "output"
      ],
      "execution_count": 150,
      "outputs": [
        {
          "output_type": "execute_result",
          "data": {
            "text/plain": [
              "[(Book(id=0, year=1954, title='The Lord of the Rings', genre='fantasy'),\n",
              "  Book(id=0, year=1954, title='The Lord of the Rings', genre='fantasy'))]"
            ]
          },
          "metadata": {},
          "execution_count": 150
        }
      ]
    },
    {
      "cell_type": "markdown",
      "metadata": {
        "id": "j8I58V2VwhSm"
      },
      "source": [
        "### Natural Join\n",
        "\n",
        "**The Map Function:** Для каждого кортежа $(a, b)$ отношения $R$, создайте пару $(b,(R, a))$. Для каждого кортежа $(b, c)$ отношения $S$, создайте пару $(b,(S, c))$.\n",
        "\n",
        "**The Reduce Function:** Каждый ключ $b$ будет асоциирован со списком пар, которые принимают форму либо $(R, a)$, либо $(S, c)$. Создайте все пары, одни, состоящие из  первого компонента $R$, а другие, из первого компонента $S$, то есть $(R, a)$ и $(S, c)$. На выходе вы получаете последовательность пар ключ-значение из списков ключей и значений. Ключ не нужен. Каждое значение, это тройка $(a, b, c)$ такая, что $(R, a)$ и $(S, c)$ это принадлежат входному списку значений."
      ]
    },
    {
      "cell_type": "code",
      "source": [
        "class Book(NamedTuple):\n",
        "  id: int\n",
        "  year: int\n",
        "  title: str\n",
        "  genre: str\n",
        "  autor_id: int"
      ],
      "metadata": {
        "id": "5Zwi65nJd5IE"
      },
      "execution_count": 151,
      "outputs": []
    },
    {
      "cell_type": "code",
      "source": [
        "class Autor(NamedTuple):\n",
        "  id: int\n",
        "  name: str"
      ],
      "metadata": {
        "id": "Y1KqdS8bd50G"
      },
      "execution_count": 157,
      "outputs": []
    },
    {
      "cell_type": "code",
      "source": [
        "input_collection_books = [\n",
        "    Book(id=0, year=1954, title=\"The Lord of the Rings\", genre=\"fantasy\", autor_id=0),\n",
        "    Book(id=1, year=1813, title=\"Pride and Prejudice\", genre=\"novel\", autor_id=1),\n",
        "    Book(id=2, year=1995, title=\"His Dark Materials\", genre=\"fantasy\", autor_id=2),\n",
        "    Book(id=3, year=1979, title=\"The Hitchhiker's Guide to the Galaxy\", genre=\"comedy\", autor_id=3),\n",
        "    Book(id=4, year=1811, title=\"Sense and Sensibility\", genre=\"novel\", autor_id=1)\n",
        "]"
      ],
      "metadata": {
        "id": "QXHsNcsaeMxe"
      },
      "execution_count": 154,
      "outputs": []
    },
    {
      "cell_type": "code",
      "source": [
        "input_collection_autors = [\n",
        "    Autor(id=0, name=\"John Ronald Reuel Tolkien\"),\n",
        "    Autor(id=1, name=\"Jane Austen\"),\n",
        "    Autor(id=2, name=\"Philip Pullman\"),\n",
        "    Autor(id=3, name=\"Douglas Adams\")\n",
        "]"
      ],
      "metadata": {
        "id": "95sq3Lz3elF3"
      },
      "execution_count": 158,
      "outputs": []
    },
    {
      "cell_type": "code",
      "metadata": {
        "id": "yHiuuTctw86I",
        "colab": {
          "base_uri": "https://localhost:8080/"
        },
        "outputId": "a8afcdf6-d3a7-4c58-873f-a85be23fdc01"
      },
      "source": [
        "def MAP_JOIN(id: int, row: NamedTuple):\n",
        "    yield (id, row)\n",
        "\n",
        "def REDUCE_JOIN(id: int, rows: Iterator[NamedTuple]):\n",
        "    books = []\n",
        "    for row in rows:\n",
        "        if isinstance(row, Book):\n",
        "            books.append(row)\n",
        "        else:\n",
        "            autor = row\n",
        "    for row in rows:\n",
        "        if isinstance(row, Book):\n",
        "            yield (row, row.autor_id, autor)\n",
        "\n",
        "def RECORDREADER():\n",
        "    return [(book.autor_id, book) for book in input_collection_books] + [(autor.id, autor) for autor in input_collection_autors]\n",
        "\n",
        "output = MapReduce(RECORDREADER, MAP_JOIN, REDUCE_JOIN)\n",
        "output = list(output)\n",
        "join_input = output\n",
        "join_input"
      ],
      "execution_count": 164,
      "outputs": [
        {
          "output_type": "execute_result",
          "data": {
            "text/plain": [
              "[(Book(id=0, year=1954, title='The Lord of the Rings', genre='fantasy', autor_id=0),\n",
              "  0,\n",
              "  Autor(id=0, name='John Ronald Reuel Tolkien')),\n",
              " (Book(id=1, year=1813, title='Pride and Prejudice', genre='novel', autor_id=1),\n",
              "  1,\n",
              "  Autor(id=1, name='Jane Austen')),\n",
              " (Book(id=4, year=1811, title='Sense and Sensibility', genre='novel', autor_id=1),\n",
              "  1,\n",
              "  Autor(id=1, name='Jane Austen')),\n",
              " (Book(id=2, year=1995, title='His Dark Materials', genre='fantasy', autor_id=2),\n",
              "  2,\n",
              "  Autor(id=2, name='Philip Pullman')),\n",
              " (Book(id=3, year=1979, title=\"The Hitchhiker's Guide to the Galaxy\", genre='comedy', autor_id=3),\n",
              "  3,\n",
              "  Autor(id=3, name='Douglas Adams'))]"
            ]
          },
          "metadata": {},
          "execution_count": 164
        }
      ]
    },
    {
      "cell_type": "markdown",
      "metadata": {
        "id": "kYdlr0YUxE27"
      },
      "source": [
        "### Grouping and Aggregation (Группировка и аггрегация)\n",
        "\n",
        "**The Map Function:** Для каждого кортежа $(a, b, c$) создайте пару $(a, b)$.\n",
        "\n",
        "**The Reduce Function:** Ключ представляет ту или иную группу. Примение аггрегирующую операцию $\\theta$ к списку значений $[b1, b2, . . . , bn]$ ассоциированных с ключом $a$. Возвращайте в выходной поток $(a, x)$, где $x$ результат применения  $\\theta$ к списку. Например, если $\\theta$ это $SUM$, тогда $x = b1 + b2 + · · · + bn$, а если $\\theta$ is $MAX$, тогда $x$ это максимальное из значений $b1, b2, . . . , bn$."
      ]
    },
    {
      "cell_type": "code",
      "metadata": {
        "id": "MLPckfEGxico",
        "colab": {
          "base_uri": "https://localhost:8080/"
        },
        "outputId": "07fa50b3-ff0c-40d1-bb00-9236028a0fef"
      },
      "source": [
        "def MAP_GROUP(id: int, row_b: NamedTuple, row_c: NamedTuple):\n",
        "    yield (id, row_b)\n",
        "\n",
        "def REDUCE_GROUP(id: int, rows: Iterator[NamedTuple]):\n",
        "    yield (id, len(rows))\n",
        "\n",
        "def RECORDREADER():\n",
        "    return [(autor_id, book, autor) for book, autor_id, autor in join_input]\n",
        "\n",
        "output = MapReduce(RECORDREADER, MAP_GROUP, REDUCE_GROUP)\n",
        "output = list(output)\n",
        "output"
      ],
      "execution_count": 166,
      "outputs": [
        {
          "output_type": "execute_result",
          "data": {
            "text/plain": [
              "[(0, 1), (1, 2), (2, 1), (3, 1)]"
            ]
          },
          "metadata": {},
          "execution_count": 166
        }
      ]
    },
    {
      "cell_type": "markdown",
      "metadata": {
        "id": "IIrRgvG4RIS4"
      },
      "source": [
        "### Matrix-Vector multiplication\n",
        "\n",
        "Случай, когда вектор не помещается в памяти Map задачи\n"
      ]
    },
    {
      "cell_type": "code",
      "source": [
        "mat = np.ones((5, 4))\n",
        "vec = np.random.rand(4)\n",
        "\n",
        "def MAP(coordinates: (int, int), value: int, chunk_start: int, chunk_end: int):\n",
        "    i, j = coordinates\n",
        "    vec_chunk = vec[chunk_start:chunk_end]\n",
        "    if j >= chunk_start and j < chunk_end:\n",
        "        yield (i, value * vec_chunk[j - chunk_start])\n",
        "\n",
        "def REDUCE(i: int, products: Iterator[NamedTuple]):\n",
        "    yield (i, sum(products))\n",
        "\n",
        "def RECORDREADER():\n",
        "    for i in range(mat.shape[0]):\n",
        "        for j in range(mat.shape[1]):\n",
        "            yield ((i, j), mat[i, j])\n",
        "\n",
        "def MapReduceWithChunks(recordreader, map_func, reduce_func, chunk_size=2):\n",
        "    results = {}\n",
        "    # Обрабатываем вектор по частям\n",
        "    for chunk_start in range(0, len(vec), chunk_size):\n",
        "        chunk_end = min(chunk_start + chunk_size, len(vec))\n",
        "\n",
        "        for coordinates, value in recordreader():\n",
        "            for result in map_func(coordinates, value, chunk_start, chunk_end):\n",
        "                i, product = result\n",
        "                if i not in results:\n",
        "                    results[i] = []\n",
        "                results[i].append(product)\n",
        "\n",
        "    for i, products in results.items():\n",
        "        yield (i, sum(products))\n",
        "\n",
        "\n",
        "output = MapReduceWithChunks(RECORDREADER, MAP, REDUCE)\n",
        "output = list(output)\n",
        "output"
      ],
      "metadata": {
        "colab": {
          "base_uri": "https://localhost:8080/"
        },
        "id": "5uAdCjJ_FZ4D",
        "outputId": "5fc7533a-c17d-4173-aed0-5900dc11f121"
      },
      "execution_count": 322,
      "outputs": [
        {
          "output_type": "execute_result",
          "data": {
            "text/plain": [
              "[(0, 1.5631593847998777),\n",
              " (1, 1.5631593847998777),\n",
              " (2, 1.5631593847998777),\n",
              " (3, 1.5631593847998777),\n",
              " (4, 1.5631593847998777)]"
            ]
          },
          "metadata": {},
          "execution_count": 322
        }
      ]
    },
    {
      "cell_type": "markdown",
      "metadata": {
        "id": "GIo2t7nNxvA9"
      },
      "source": [
        "## Matrix multiplication (Перемножение матриц)\n",
        "\n",
        "Если у нас есть матрица $M$ с элементами $m_{ij}$ в строке $i$ и столбце $j$, и матрица $N$ с элементами $n_{jk}$ в строке $j$ и столбце $k$, тогда их произведение $P = MN$ есть матрица $P$ с элементами $p_{ik}$ в строке $i$ и столбце $k$, где\n",
        "\n",
        "$$p_{ik} =\\sum_{j} m_{ij}n_{jk}$$\n",
        "\n",
        "Необходимым требованием является одинаковое количество столбцов в $M$ и строк в $N$, чтобы операция суммирования по  $j$ была осмысленной. Мы можем размышлять о матрице, как об отношении с тремя атрибутами: номер строки, номер столбца, само значение. Таким образом матрица $M$ предстваляется как отношение $ M(I, J, V )$, с кортежами $(i, j, m_{ij})$, и, аналогично, матрица $N$ представляется как отношение $N(J, K, W)$, с кортежами $(j, k, n_{jk})$. Так как большие матрицы как правило разреженные (большинство значений равно 0), и так как мы можем нулевыми значениями пренебречь (не хранить), такое реляционное представление достаточно эффективно для больших матриц. Однако, возможно, что координаты $i$, $j$, и $k$ неявно закодированы в смещение позиции элемента относительно начала файла, вместо явного хранения. Тогда, функция Map (или Reader) должна быть разработана таким образом, чтобы реконструировать компоненты $I$, $J$, и $K$ кортежей из смещения.\n",
        "\n",
        "Произведение $MN$ это фактически join, за которым следуют группировка по ключу и аггрегация. Таким образом join отношений $M(I, J, V )$ и $N(J, K, W)$, имеющих общим только атрибут $J$, создаст кортежи $(i, j, k, v, w)$ из каждого кортежа $(i, j, v) \\in M$ и кортежа $(j, k, w) \\in N$. Такой 5 компонентный кортеж представляет пару элементов матрицы $(m_{ij} , n_{jk})$. Что нам хотелось бы получить на самом деле, это произведение этих элементов, то есть, 4 компонентный кортеж$(i, j, k, v \\times w)$, так как он представляет произведение $m_{ij}n_{jk}$. Мы представляем отношение как результат одной MapReduce операции, в которой мы можем произвести группировку и аггрегацию, с $I$ и $K$  атрибутами, по которым идёт группировка, и суммой  $V \\times W$.\n",
        "\n",
        "\n",
        "\n"
      ]
    },
    {
      "cell_type": "code",
      "metadata": {
        "id": "1MBkGaLAYVCt"
      },
      "source": [
        "# MapReduce model\n",
        "def flatten(nested_iterable):\n",
        "  for iterable in nested_iterable:\n",
        "    for element in iterable:\n",
        "      yield element\n",
        "\n",
        "def groupbykey(iterable):\n",
        "  t = {}\n",
        "  for (k2, v2) in iterable:\n",
        "    t[k2] = t.get(k2, []) + [v2]\n",
        "  return t.items()\n",
        "\n",
        "def MapReduce(RECORDREADER, MAP, REDUCE):\n",
        "  return flatten(map(lambda x: REDUCE(*x), groupbykey(flatten(map(lambda x: MAP(*x), RECORDREADER())))))"
      ],
      "execution_count": 323,
      "outputs": []
    },
    {
      "cell_type": "markdown",
      "metadata": {
        "id": "sMspsOT0ZB35"
      },
      "source": [
        "Реализуйте перемножение матриц с использованием модельного кода MapReduce для одной машины в случае, когда одна матрица хранится в памяти, а другая генерируется RECORDREADER-ом."
      ]
    },
    {
      "cell_type": "code",
      "metadata": {
        "id": "psP1XekbsEjS"
      },
      "source": [
        "import numpy as np\n",
        "I = 2\n",
        "J = 3\n",
        "K = 4*10\n",
        "small_mat = np.random.rand(I,J) # it is legal to access this from RECORDREADER, MAP, REDUCE\n",
        "big_mat = np.random.rand(J,K)\n",
        "\n",
        "def RECORDREADER():\n",
        "  for j in range(big_mat.shape[0]):\n",
        "    for k in range(big_mat.shape[1]):\n",
        "      yield ((j,k), big_mat[j,k])\n",
        "\n",
        "def MAP(k1, v1):\n",
        "  (j, k) = k1\n",
        "  w = v1\n",
        "  for i in range(small_mat.shape[0]):\n",
        "      yield ((i, k), small_mat[i, j] * w)\n",
        "\n",
        "def REDUCE(key, values):\n",
        "  (i, k) = key\n",
        "  yield (key, sum(values))"
      ],
      "execution_count": 339,
      "outputs": []
    },
    {
      "cell_type": "markdown",
      "metadata": {
        "id": "rnt306LHhHrm"
      },
      "source": [
        "Проверьте своё решение"
      ]
    },
    {
      "cell_type": "code",
      "metadata": {
        "id": "Ewy_ZNYqW5a2",
        "colab": {
          "base_uri": "https://localhost:8080/"
        },
        "outputId": "ae7241f0-9bed-4a47-85f7-330b0c79a378"
      },
      "source": [
        "# CHECK THE SOLUTION\n",
        "reference_solution = np.matmul(small_mat, big_mat)\n",
        "solution = MapReduce(RECORDREADER, MAP, REDUCE)\n",
        "\n",
        "def asmatrix(reduce_output):\n",
        "  reduce_output = list(reduce_output)\n",
        "  I = max(i for ((i,k), vw) in reduce_output)+1\n",
        "  K = max(k for ((i,k), vw) in reduce_output)+1\n",
        "  mat = np.empty(shape=(I,K))\n",
        "  for ((i,k), vw) in reduce_output:\n",
        "    mat[i,k] = vw\n",
        "  return mat\n",
        "\n",
        "np.allclose(reference_solution, asmatrix(solution)) # should return true"
      ],
      "execution_count": 372,
      "outputs": [
        {
          "output_type": "execute_result",
          "data": {
            "text/plain": [
              "True"
            ]
          },
          "metadata": {},
          "execution_count": 372
        }
      ]
    },
    {
      "cell_type": "code",
      "metadata": {
        "id": "TK7v4CEcfxqf",
        "colab": {
          "base_uri": "https://localhost:8080/"
        },
        "outputId": "3c46fe26-9bc8-4833-e34c-8ac2c3225c05"
      },
      "source": [
        "reduce_output = list(MapReduce(RECORDREADER, MAP, REDUCE))\n",
        "max(i for ((i,k), vw) in reduce_output)"
      ],
      "execution_count": 341,
      "outputs": [
        {
          "output_type": "execute_result",
          "data": {
            "text/plain": [
              "1"
            ]
          },
          "metadata": {},
          "execution_count": 341
        }
      ]
    },
    {
      "cell_type": "markdown",
      "metadata": {
        "id": "i4yyg3kOZqJJ"
      },
      "source": [
        "Реализуйте перемножение матриц  с использованием модельного кода MapReduce для одной машины в случае, когда обе матрицы генерируются в RECORDREADER. Например, сначала одна, а потом другая."
      ]
    },
    {
      "cell_type": "code",
      "metadata": {
        "id": "3B7rIAJCaHZq"
      },
      "source": [
        "I = 2\n",
        "J = 3\n",
        "K = 4*10\n",
        "small_mat = np.random.rand(I,J)\n",
        "big_mat = np.random.rand(J,K)\n",
        "\n",
        "def RECORDREADER():\n",
        "  for i in range(I):\n",
        "    for j in range(J):\n",
        "      for k in range(K):\n",
        "        yield (((i,j), small_mat[i,j]), ((j,k), big_mat[j,k]))\n",
        "\n",
        "def MAP(e1, e2):\n",
        "  (i, j), v1 = e1\n",
        "  (j, k), v2 = e2\n",
        "  yield ((i, k), v1 * v2)\n",
        "\n",
        "def REDUCE(key, values):\n",
        "  (i, k) = key\n",
        "  yield (key, sum(values))"
      ],
      "execution_count": 360,
      "outputs": []
    },
    {
      "cell_type": "code",
      "source": [
        "# CHECK THE SOLUTION\n",
        "solution = MapReduce(RECORDREADER, MAP, REDUCE)\n",
        "np.allclose(reference_solution, asmatrix(solution)) # should return true"
      ],
      "metadata": {
        "colab": {
          "base_uri": "https://localhost:8080/"
        },
        "id": "XOBHc6OHLjwn",
        "outputId": "6b5f53a8-c07b-4b73-cfb4-bbc48e476c09"
      },
      "execution_count": 373,
      "outputs": [
        {
          "output_type": "execute_result",
          "data": {
            "text/plain": [
              "True"
            ]
          },
          "metadata": {},
          "execution_count": 373
        }
      ]
    },
    {
      "cell_type": "markdown",
      "metadata": {
        "id": "mXyzQi1DaIwo"
      },
      "source": [
        "Реализуйте перемножение матриц с использованием модельного кода MapReduce Distributed, когда каждая матрица генерируется в своём RECORDREADER."
      ]
    },
    {
      "cell_type": "code",
      "metadata": {
        "id": "TDM_s78Rb5eR"
      },
      "source": [
        "I = 2\n",
        "J = 3\n",
        "K = 4*10\n",
        "small_mat = np.random.rand(I,J)\n",
        "big_mat = np.random.rand(J,K)\n",
        "\n",
        "maps = 2\n",
        "reducers = 2\n",
        "\n",
        "def INPUTFORMAT():\n",
        "    global maps\n",
        "\n",
        "    def RECORDREADER(part):\n",
        "      for i in part:\n",
        "        for j in range(J):\n",
        "          for k in range(K):\n",
        "            yield (((i,j), small_mat[i,j]), ((j,k), big_mat[j,k]))\n",
        "\n",
        "    split_size = int(np.ceil(I / maps))\n",
        "    for i in range(0, I, split_size):\n",
        "        yield RECORDREADER(range(i, i + split_size))\n",
        "\n",
        "\n",
        "def MAP(e1, e2):\n",
        "  (i, j), v1 = e1\n",
        "  (j, k), v2 = e2\n",
        "  yield ((i, k), v1 * v2)\n",
        "\n",
        "\n",
        "def REDUCE(key, values):\n",
        "  (i, k) = key\n",
        "  yield (key, sum(values))"
      ],
      "execution_count": 401,
      "outputs": []
    },
    {
      "cell_type": "code",
      "source": [
        "reference_solution = np.matmul(small_mat, big_mat)\n",
        "\n",
        "partitioned_output = MapReduceDistributed(INPUTFORMAT, MAP, REDUCE)\n",
        "partitioned_output = [(partition_id, list(partition)) for (partition_id, partition) in partitioned_output]\n",
        "\n",
        "full_solution = []\n",
        "for output_part in partitioned_output:\n",
        "    for element in output_part[1]:\n",
        "        full_solution += [element]\n",
        "\n",
        "np.allclose(reference_solution, asmatrix(full_solution)) # should return true"
      ],
      "metadata": {
        "colab": {
          "base_uri": "https://localhost:8080/"
        },
        "id": "JFGsdDaXMHlw",
        "outputId": "c947a367-0ade-46e1-d56c-822e7f6e11ef"
      },
      "execution_count": 402,
      "outputs": [
        {
          "output_type": "stream",
          "name": "stdout",
          "text": [
            "240 key-value pairs were sent over a network.\n"
          ]
        },
        {
          "output_type": "execute_result",
          "data": {
            "text/plain": [
              "True"
            ]
          },
          "metadata": {},
          "execution_count": 402
        }
      ]
    },
    {
      "cell_type": "markdown",
      "metadata": {
        "id": "ZuSA2P9Db6UM"
      },
      "source": [
        "Обобщите предыдущее решение на случай, когда каждая матрица генерируется несколькими RECORDREADER-ами, и проверьте его работоспособность. Будет ли работать решение, если RECORDREADER-ы будут генерировать случайное подмножество элементов матрицы?"
      ]
    },
    {
      "cell_type": "markdown",
      "source": [
        "Решение работает, потому что каждая пара элементов, генерируемая RECORDREADER, уникально определяется по своим индексам."
      ],
      "metadata": {
        "id": "yC3Op1_SMKLy"
      }
    }
  ]
}