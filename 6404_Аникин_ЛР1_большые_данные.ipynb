{
  "nbformat": 4,
  "nbformat_minor": 0,
  "metadata": {
    "colab": {
      "provenance": []
    },
    "kernelspec": {
      "name": "python3",
      "display_name": "Python 3"
    },
    "language_info": {
      "name": "python"
    }
  },
  "cells": [
    {
      "cell_type": "code",
      "source": [
        "!apt-get install openjdk-8-jdk-headless -qq > /dev/null\n",
        "!wget -q http://archive.apache.org/dist/spark/spark-3.5.1/spark-3.5.1-bin-hadoop3.tgz\n",
        "!tar xf spark-3.5.1-bin-hadoop3.tgz\n",
        "!pip install -q findspark"
      ],
      "metadata": {
        "id": "RJurBA700jkk",
        "colab": {
          "base_uri": "https://localhost:8080/"
        },
        "outputId": "69e97303-c256-4583-eb4a-e24c074c613d"
      },
      "execution_count": 20,
      "outputs": [
        {
          "output_type": "stream",
          "name": "stdout",
          "text": [
            "^C\n"
          ]
        }
      ]
    },
    {
      "cell_type": "code",
      "source": [
        "import os\n",
        "os.environ[\"JAVA_HOME\"] = \"/usr/lib/jvm/java-8-openjdk-amd64\"\n",
        "os.environ[\"SPARK_HOME\"] = \"/content/spark-3.5.1-bin-hadoop3\""
      ],
      "metadata": {
        "id": "wVWw_LwiJ2c1"
      },
      "execution_count": 21,
      "outputs": []
    },
    {
      "cell_type": "code",
      "source": [
        "import findspark\n",
        "findspark.init()\n",
        "from pyspark.sql import SparkSession"
      ],
      "metadata": {
        "id": "_YzQ9XVW03QT"
      },
      "execution_count": 22,
      "outputs": []
    },
    {
      "cell_type": "code",
      "source": [
        "from pyspark import SparkContext, SparkConf\n",
        "from typing import NamedTuple\n",
        "from datetime import datetime\n",
        "import numpy as np\n",
        "from pyspark.sql.functions import udf\n",
        "from pyspark.sql import functions as func\n",
        "from pyspark.sql.types import DoubleType"
      ],
      "metadata": {
        "id": "R4ZocuXv4X8f"
      },
      "execution_count": 23,
      "outputs": []
    },
    {
      "cell_type": "markdown",
      "source": [
        "# Решение задач для данных велопарковок Сан-Франциско"
      ],
      "metadata": {
        "id": "R7ZGH_a738eU"
      }
    },
    {
      "cell_type": "markdown",
      "source": [
        "1. Найти велосипед с максимальным временем пробега.\n",
        "2. Найти наибольшее геодезическое расстояние между станциями.\n",
        "3. Найти путь велосипеда с максимальным временем пробега через станции.\n",
        "4. Найти количество велосипедов в системе.\n",
        "5. Найти пользователей потративших на поездки более 3 часов."
      ],
      "metadata": {
        "id": "gzlTVQiq5UO_"
      }
    },
    {
      "cell_type": "code",
      "source": [
        "spark = SparkSession.builder\\\n",
        "        .master(\"local[*]\")\\\n",
        "        .appName(\"LR1\")\\\n",
        "        .getOrCreate()"
      ],
      "metadata": {
        "id": "e_kR65SZ4L4j"
      },
      "execution_count": 44,
      "outputs": []
    },
    {
      "cell_type": "code",
      "source": [
        "trip_data = spark.read\\\n",
        ".option(\"header\", True)\\\n",
        ".option(\"inferSchema\", True)\\\n",
        ".option(\"timestampFormat\", 'M/d/y H:m')\\\n",
        ".csv(\"trips.csv\")"
      ],
      "metadata": {
        "id": "7jpZvZSQEIus"
      },
      "execution_count": 45,
      "outputs": []
    },
    {
      "cell_type": "code",
      "source": [
        "trip_data.printSchema()"
      ],
      "metadata": {
        "colab": {
          "base_uri": "https://localhost:8080/"
        },
        "id": "opl0MK3EG-0g",
        "outputId": "eae62870-91f6-4d83-cf55-e7720030d06d"
      },
      "execution_count": 46,
      "outputs": [
        {
          "output_type": "stream",
          "name": "stdout",
          "text": [
            "root\n",
            " |-- id: integer (nullable = true)\n",
            " |-- duration: integer (nullable = true)\n",
            " |-- start_date: timestamp (nullable = true)\n",
            " |-- start_station_name: string (nullable = true)\n",
            " |-- start_station_id: integer (nullable = true)\n",
            " |-- end_date: timestamp (nullable = true)\n",
            " |-- end_station_name: string (nullable = true)\n",
            " |-- end_station_id: integer (nullable = true)\n",
            " |-- bike_id: integer (nullable = true)\n",
            " |-- subscription_type: string (nullable = true)\n",
            " |-- zip_code: string (nullable = true)\n",
            "\n"
          ]
        }
      ]
    },
    {
      "cell_type": "code",
      "source": [
        "trip_data.show(n=5)"
      ],
      "metadata": {
        "colab": {
          "base_uri": "https://localhost:8080/"
        },
        "id": "tnrpqyi_IKLm",
        "outputId": "de1a3269-6300-45ac-966c-29204418ed90"
      },
      "execution_count": 47,
      "outputs": [
        {
          "output_type": "stream",
          "name": "stdout",
          "text": [
            "+----+--------+-------------------+--------------------+----------------+-------------------+--------------------+--------------+-------+-----------------+--------+\n",
            "|  id|duration|         start_date|  start_station_name|start_station_id|           end_date|    end_station_name|end_station_id|bike_id|subscription_type|zip_code|\n",
            "+----+--------+-------------------+--------------------+----------------+-------------------+--------------------+--------------+-------+-----------------+--------+\n",
            "|4576|      63|               NULL|South Van Ness at...|              66|2013-08-29 14:14:00|South Van Ness at...|            66|    520|       Subscriber|   94127|\n",
            "|4607|    NULL|2013-08-29 14:42:00|  San Jose City Hall|              10|2013-08-29 14:43:00|  San Jose City Hall|            10|    661|       Subscriber|   95138|\n",
            "|4130|      71|2013-08-29 10:16:00|Mountain View Cit...|              27|2013-08-29 10:17:00|Mountain View Cit...|            27|     48|       Subscriber|   97214|\n",
            "|4251|      77|2013-08-29 11:29:00|  San Jose City Hall|              10|2013-08-29 11:30:00|  San Jose City Hall|            10|     26|       Subscriber|   95060|\n",
            "|4299|      83|2013-08-29 12:02:00|South Van Ness at...|              66|2013-08-29 12:04:00|      Market at 10th|            67|    319|       Subscriber|   94103|\n",
            "+----+--------+-------------------+--------------------+----------------+-------------------+--------------------+--------------+-------+-----------------+--------+\n",
            "only showing top 5 rows\n",
            "\n"
          ]
        }
      ]
    },
    {
      "cell_type": "code",
      "source": [
        "station_data = spark.read\\\n",
        ".option(\"header\", True)\\\n",
        ".option(\"inferSchema\", True)\\\n",
        ".option(\"timestampFormat\", 'M/d/y H:m')\\\n",
        ".csv(\"stations.csv\")"
      ],
      "metadata": {
        "id": "RosdHew6G_8N"
      },
      "execution_count": 48,
      "outputs": []
    },
    {
      "cell_type": "code",
      "source": [
        "station_data.printSchema()"
      ],
      "metadata": {
        "colab": {
          "base_uri": "https://localhost:8080/"
        },
        "id": "ZZ4JcgFaHDqP",
        "outputId": "ece99dbd-bb2e-4710-c043-37b10f187932"
      },
      "execution_count": 49,
      "outputs": [
        {
          "output_type": "stream",
          "name": "stdout",
          "text": [
            "root\n",
            " |-- id: integer (nullable = true)\n",
            " |-- name: string (nullable = true)\n",
            " |-- lat: double (nullable = true)\n",
            " |-- long: double (nullable = true)\n",
            " |-- dock_count: integer (nullable = true)\n",
            " |-- city: string (nullable = true)\n",
            " |-- installation_date: string (nullable = true)\n",
            "\n"
          ]
        }
      ]
    },
    {
      "cell_type": "code",
      "source": [
        "station_data.show(n=5)"
      ],
      "metadata": {
        "colab": {
          "base_uri": "https://localhost:8080/"
        },
        "id": "wuDiDTV4IQNY",
        "outputId": "c714869a-28e4-4fa2-a693-7822de98a3d0"
      },
      "execution_count": 50,
      "outputs": [
        {
          "output_type": "stream",
          "name": "stdout",
          "text": [
            "+---+--------------------+------------------+-------------------+----------+--------+-----------------+\n",
            "| id|                name|               lat|               long|dock_count|    city|installation_date|\n",
            "+---+--------------------+------------------+-------------------+----------+--------+-----------------+\n",
            "|  2|San Jose Diridon ...|         37.329732|-121.90178200000001|        27|San Jose|         8/6/2013|\n",
            "|  3|San Jose Civic Ce...|         37.330698|        -121.888979|        15|San Jose|         8/5/2013|\n",
            "|  4|Santa Clara at Al...|         37.333988|        -121.894902|        11|San Jose|         8/6/2013|\n",
            "|  5|    Adobe on Almaden|         37.331415|          -121.8932|        19|San Jose|         8/5/2013|\n",
            "|  6|    San Pedro Square|37.336721000000004|        -121.894074|        15|San Jose|         8/7/2013|\n",
            "+---+--------------------+------------------+-------------------+----------+--------+-----------------+\n",
            "only showing top 5 rows\n",
            "\n"
          ]
        }
      ]
    },
    {
      "cell_type": "markdown",
      "source": [
        "#1. Найти велосипед с максимальным временем пробега."
      ],
      "metadata": {
        "id": "Rf4nKJVTJO-m"
      }
    },
    {
      "cell_type": "code",
      "source": [
        "# группировка по bike_id, применение агрегатной функции sum и сортировка по убыванию полученной суммы.\n",
        "# берём первое значение из списка => c максимальным временем пробега\n",
        "bike_max_duration = trip_data.groupBy(\"bike_id\").agg({\"duration\": \"sum\"}).sort(\"sum(duration)\", ascending=False).first()\n",
        "print(f\"Велосипед с id = {bike_max_duration['bike_id']} имеет наибольший пробег ({bike_max_duration['sum(duration)']})\")"
      ],
      "metadata": {
        "colab": {
          "base_uri": "https://localhost:8080/"
        },
        "id": "He3m7z5DJSdf",
        "outputId": "6348b513-e60f-42d5-80ca-475065c3ca19"
      },
      "execution_count": 51,
      "outputs": [
        {
          "output_type": "stream",
          "name": "stdout",
          "text": [
            "Велосипед с id = 535 имеет наибольший пробег (18611693)\n"
          ]
        }
      ]
    },
    {
      "cell_type": "markdown",
      "source": [
        "#2.Найти наибольшее геодезическое расстояние между станциями."
      ],
      "metadata": {
        "id": "7cCoIa7DJS30"
      }
    },
    {
      "cell_type": "code",
      "source": [
        "!pip install haversine"
      ],
      "metadata": {
        "colab": {
          "base_uri": "https://localhost:8080/"
        },
        "id": "0ivzP7zIS-ij",
        "outputId": "92b96604-42be-4884-fda4-d64e53f725a1"
      },
      "execution_count": 52,
      "outputs": [
        {
          "output_type": "stream",
          "name": "stdout",
          "text": [
            "Requirement already satisfied: haversine in /usr/local/lib/python3.11/dist-packages (2.9.0)\n"
          ]
        }
      ]
    },
    {
      "cell_type": "code",
      "source": [
        "from haversine import haversine"
      ],
      "metadata": {
        "id": "_M7NIT6k6LN2"
      },
      "execution_count": 53,
      "outputs": []
    },
    {
      "cell_type": "code",
      "source": [
        "# функция вычисления расстояния с помощью формулы гаверсинуса\n",
        "def get_distance(lat_1, long_1, lat_2, long_2):\n",
        "  return haversine((lat_1, long_1), (lat_2, long_2))\n",
        "\n",
        "# создание udf функции\n",
        "udf_get_distance = func.udf(get_distance)\n",
        "# выборка необходимых столцов\n",
        "station_coords = station_data.select(\"id\", \"lat\", \"long\")\n",
        "# создание пар всех станций со всеми\n",
        "station_pairs = station_coords.crossJoin(station_coords)\\\n",
        "                .toDF(\"station_1_id\", \"lat_1\", \"long_1\", \"station_2_id\", \"lat_2\", \"long_2\")\n",
        "# удаление строк с одинаковым id станций\n",
        "station_pairs = station_pairs.filter(station_pairs.station_1_id != station_pairs.station_2_id)\n",
        "# применение функции расчёта расстояния ко всем строкам\n",
        "station_pairs_distance = station_pairs.withColumn(\"distance\",\\\n",
        "                                        udf_get_distance(station_pairs.lat_1, station_pairs.long_1,\\\n",
        "                                        station_pairs.lat_2, station_pairs.long_2))\n",
        "# сортировка по убыванию, получение наибольшего значения\n",
        "biggest_dist_stations = station_pairs_distance.sort(\"distance\", ascending=False).first()\n",
        "\n",
        "print(f\"Наибольшее геодезическое расстояние ({biggest_dist_stations['distance']} км) \\\n",
        "между станциями {biggest_dist_stations['station_1_id']} и {biggest_dist_stations['station_2_id']}\")"
      ],
      "metadata": {
        "colab": {
          "base_uri": "https://localhost:8080/"
        },
        "outputId": "ca148035-45b8-44b8-fd66-eef0eeebdf21",
        "id": "isgsFICp26Lt"
      },
      "execution_count": 34,
      "outputs": [
        {
          "output_type": "stream",
          "name": "stdout",
          "text": [
            "Наибольшее геодезическое расстояние (9.663183643537442 км) между станциями 24 и 36\n"
          ]
        }
      ]
    },
    {
      "cell_type": "markdown",
      "source": [
        "#3. Найти путь велосипеда с максимальным временем пробега через станции."
      ],
      "metadata": {
        "id": "bdk4Zb7JJVXy"
      }
    },
    {
      "cell_type": "code",
      "source": [
        "# сортировка по убыванию, получение наибольшего пробега\n",
        "bike_max_trip = trip_data.sort(\"duration\", ascending=False).first()\n",
        "# вывод пути\n",
        "print(f\"Максимальный путь велосипеда id={bike_max_trip['bike_id']} \\\n",
        "из станции {bike_max_trip['start_station_name']} на станцию {bike_max_trip['end_station_name']} \\\n",
        "({bike_max_trip['duration']})\")"
      ],
      "metadata": {
        "id": "tnYtjFZiJj2f",
        "colab": {
          "base_uri": "https://localhost:8080/"
        },
        "outputId": "7bfb275e-7326-43c4-b445-4a3577438e76"
      },
      "execution_count": 54,
      "outputs": [
        {
          "output_type": "stream",
          "name": "stdout",
          "text": [
            "Максимальный путь велосипеда id=535 из станции South Van Ness at Market на станцию 2nd at Folsom (17270400)\n"
          ]
        }
      ]
    },
    {
      "cell_type": "markdown",
      "source": [
        "# 4. Найти количество велосипедов в системе."
      ],
      "metadata": {
        "id": "iEEt-KBYJWvU"
      }
    },
    {
      "cell_type": "code",
      "source": [
        "# счёт уникальных значений bike_id\n",
        "bikes_count = trip_data.select(\"bike_id\").distinct().count()\n",
        "print(f\"Количество велосипедов в системе: {bikes_count}\")"
      ],
      "metadata": {
        "id": "CgaKfXk1JkK5",
        "colab": {
          "base_uri": "https://localhost:8080/"
        },
        "outputId": "aabcad4e-940e-4b60-83ae-2d4d0be20940"
      },
      "execution_count": 55,
      "outputs": [
        {
          "output_type": "stream",
          "name": "stdout",
          "text": [
            "Количество велосипедов в системе: 700\n"
          ]
        }
      ]
    },
    {
      "cell_type": "markdown",
      "source": [
        "# 5. Найти пользователей потративших на поездки более 3 часов."
      ],
      "metadata": {
        "id": "cqw3GmGmJXHO"
      }
    },
    {
      "cell_type": "code",
      "source": [
        "# группировка по zip_code, применение агрегатной функции sum, переименование полученного столбца.\n",
        "users = trip_data.groupBy(\"zip_code\").agg({\"duration\": \"sum\"}).withColumnRenamed(\"sum(duration)\", \"total_duration\")\n",
        "# оставляем строки с total_duration > 3 часов (3ч * 60 мин * 60 сек)\n",
        "long_term_users = users.filter(users.total_duration > (3 * 60 * 60))\n",
        "print(\"Пользователи, которые потратили на поездки более 3 часов:\")\n",
        "long_term_users.show()"
      ],
      "metadata": {
        "id": "uVg8DAlDJkmU",
        "colab": {
          "base_uri": "https://localhost:8080/"
        },
        "outputId": "260eec5d-198d-4f72-a976-0bf89a0ea77f"
      },
      "execution_count": 56,
      "outputs": [
        {
          "output_type": "stream",
          "name": "stdout",
          "text": [
            "Пользователи, которые потратили на поездки более 3 часов:\n",
            "+--------+--------------+\n",
            "|zip_code|total_duration|\n",
            "+--------+--------------+\n",
            "|   94102|      19128021|\n",
            "|   95134|        728023|\n",
            "|   84606|         95145|\n",
            "|   80305|        180906|\n",
            "|   60070|         28919|\n",
            "|   95519|         30303|\n",
            "|   43085|         11670|\n",
            "|   91910|         50488|\n",
            "|   77339|         13713|\n",
            "|   48063|         13755|\n",
            "|   85022|         12682|\n",
            "|    1090|         20391|\n",
            "|    2136|         16010|\n",
            "|   11722|         24331|\n",
            "|   95138|        155295|\n",
            "|   94610|       3630628|\n",
            "|   94404|       3589350|\n",
            "|   80301|        152189|\n",
            "|   91326|         65885|\n",
            "|   90742|         10965|\n",
            "+--------+--------------+\n",
            "only showing top 20 rows\n",
            "\n"
          ]
        }
      ]
    },
    {
      "cell_type": "code",
      "source": [
        "spark.stop()"
      ],
      "metadata": {
        "id": "uZY32yr06YsQ"
      },
      "execution_count": 40,
      "outputs": []
    }
  ]
}